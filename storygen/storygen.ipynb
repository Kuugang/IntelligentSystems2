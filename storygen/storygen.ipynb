{
 "cells": [
  {
   "cell_type": "code",
   "execution_count": 33,
   "metadata": {},
   "outputs": [
    {
     "name": "stdout",
     "output_type": "stream",
     "text": [
      "{\"title\": \"The Secret Garden of Dreams\", \"text\": \"Once upon a time, in a world beyond our own, there was a magical garden hidden behind a veil of sparkling rainbow mist. This was no ordinary garden, for it held the power to bring dreams to life. In the heart of the garden, there grew a magnificent tree with branches that shone like stars and leaves that glowed like emeralds. The tree was known as the Dreamweaver, and its magic was sought after by children from far and wide.\\n\\nOne sunny afternoon, a curious girl named Lily wandered into the garden while chasing after a butterfly. As she ran, her feet began to tingle, and before she knew it, she found herself standing beneath the branches of the Dreamweaver tree. A soft breeze carried the whispers of ancient secrets in her ear, drawing her closer to the trunk.\\n\\nLily reached out a hand to touch the glowing leaves, and suddenly, visions flooded her mind's eye. She saw cities floating in the clouds, oceans made of crystal clear water, and forests where animals could talk. The more she touched the tree, the stronger the dreams became, until Lily found herself transported into one of those fantastical worlds.\\n\\nShe soared through the skies on the back of a rainbow-colored dragonfly, its wings beating in time with her own heartbeats. Together, they danced above a field of stars that twinkled like diamonds scattered across the sky. In another world, she played hide-and-seek among towering crystal spires with creatures who had the bodies of birds and the eyes of wispy clouds.\\n\\nAs the sun began to set in the real world outside, Lily reluctantly returned to her own feet, her hand still touching the Dreamweaver tree's trunk. But as she looked around, she noticed something strange - every butterfly in the garden seemed to be carrying a tiny piece of paper attached to its antennae. They fluttered about, leaving behind trails of glittering silver dust that spelled out a message: 'Dreams are woven here.'\\n\\nAs Lily pondered this mysterious message, a hidden pathway revealed itself beneath her feet. She took it as an invitation and followed the winding path, discovering a room filled with sparkling crystals and iridescent fabrics that shimmered like moonlight on dewy grass. In the center of the room, she found a small table adorned with glowing candles, a notebook belonging to the Dreamweaver, and a pen that glowed brighter than any star.\\n\\nLily picked up the pen, dipped it in ink from the heart of a rainbow-colored flower, and began writing her own dreams into reality. And as she wrote, the garden around her grew brighter, until every creature was dancing with joy. The world outside heard their whispers and took note - for in this secret garden of dreams, magic was woven every day by those who dared to believe.\\n\\nFrom that day forward, Lily visited the Dreamweaver tree whenever she needed a reminder that her imagination held the power to shape reality. And so, children from far and wide came to explore the magical world within its walls, writing their own stories into existence under the watchful eye of the Dreamweaver's glowing branches.\", \"genre\": \"Fantasy\"}\n"
     ]
    }
   ],
   "source": [
    "import ollama\n",
    "from json_repair import repair_json\n",
    "\n",
    "client = ollama.Client(host='http://localhost:11434')\n",
    "\n",
    "word_count = 500\n",
    "\n",
    "genre = \"Fantasy\"\n",
    "\n",
    "prompt = f\"\"\"\n",
    "Please write a unique short children’s story with the following specifications:\n",
    "- Genre: {genre}\n",
    "- Story word count: {word_count} words (please try to meet or exceed this word count, but don't be too far below it)\n",
    "- The story should be fun, engaging, and suitable for young readers.\n",
    "\n",
    "Make sure to generate a **unique** title and storyline, not reusing anything from prior attempts.\n",
    "\n",
    "Please ensure the response is in proper JSON format. \n",
    "- The JSON object should only contain the following keys:\n",
    "  - \"title\" (string): The title of the story\n",
    "  - \"text\" (string): The body of the story\n",
    "  - \"genre\" (string): The genre of the story\n",
    "\n",
    "The JSON response should be formatted properly with no additional annotations, explanations, or code blocks.\n",
    "Do not include any explanations, annotations, or code blocks. Only return the JSON with the exact structure described above. The word count of the story should be as close as possible to the specified number of words.\n",
    "\"\"\"\n",
    "\n",
    "response = client.generate(\n",
    "    model='llama3.2',\n",
    "    prompt = prompt,\n",
    ")\n",
    "\n",
    "story = response.response  # This should contain your previously generated story\n",
    "# print(story)\n",
    "story =repair_json(story) \n",
    "print(story)\n"
   ]
  },
  {
   "cell_type": "code",
   "execution_count": null,
   "metadata": {},
   "outputs": [
    {
     "name": "stderr",
     "output_type": "stream",
     "text": [
      "/home/kuugang/Documents/3rd Year/2ndSem/IS2/.env/lib/python3.12/site-packages/tqdm/auto.py:21: TqdmWarning: IProgress not found. Please update jupyter and ipywidgets. See https://ipywidgets.readthedocs.io/en/stable/user_install.html\n",
      "  from .autonotebook import tqdm as notebook_tqdm\n"
     ]
    }
   ],
   "source": [
    "from huggingface_hub import login\n",
    "\n",
    "# Login with your Hugging Face token\n",
    "login(token=\"\")"
   ]
  },
  {
   "cell_type": "code",
   "execution_count": 1,
   "metadata": {},
   "outputs": [
    {
     "name": "stdout",
     "output_type": "stream",
     "text": [
      "True\n",
      "NVIDIA GeForce RTX 3050 Laptop GPU\n"
     ]
    }
   ],
   "source": [
    "import torch\n",
    "print(torch.cuda.is_available())  # Should be True\n",
    "print(torch.cuda.get_device_name(0))"
   ]
  },
  {
   "cell_type": "code",
   "execution_count": null,
   "metadata": {},
   "outputs": [
    {
     "name": "stderr",
     "output_type": "stream",
     "text": [
      "Loading pipeline components...:  29%|██▊       | 2/7 [00:00<00:00,  5.30it/s]You set `add_prefix_space`. The tokenizer needs to be converted from the slow tokenizers\n",
      "Loading pipeline components...:  57%|█████▋    | 4/7 [00:00<00:00,  3.99it/s]"
     ]
    }
   ],
   "source": [
    "from diffusers import DiffusionPipeline\n",
    "import torch\n",
    "\n",
    "\n",
    "pipe = DiffusionPipeline.from_pretrained(\"black-forest-labs/FLUX.1-dev\", torch_dtype=torch.float16)\n",
    "# pipe.load_lora_weights(\"prithivMLmods/EBook-Creative-Cover-Flux-LoRA\")\n",
    "pipe.to(\"cuda\")\n",
    "\n",
    "\n"
   ]
  },
  {
   "cell_type": "code",
   "execution_count": null,
   "metadata": {},
   "outputs": [],
   "source": [
    "prompt = \"EBook Cover, An eye-level view of an ancient ruins, with the words \\\"ECHOES OF THE PAST\\\" written in gold in the center of the image. The ruins are made of stone, and the pillars are adorned with intricate carvings. In the background, a mountain can be seen. The sky is a muted yellow, and at the top, the word \\\"By Cesar Blair\\\" is written in a bold black font.\"\n",
    "image = pipe(prompt).images[0]"
   ]
  }
 ],
 "metadata": {
  "kernelspec": {
   "display_name": ".env",
   "language": "python",
   "name": "python3"
  },
  "language_info": {
   "codemirror_mode": {
    "name": "ipython",
    "version": 3
   },
   "file_extension": ".py",
   "mimetype": "text/x-python",
   "name": "python",
   "nbconvert_exporter": "python",
   "pygments_lexer": "ipython3",
   "version": "3.12.9"
  }
 },
 "nbformat": 4,
 "nbformat_minor": 2
}
